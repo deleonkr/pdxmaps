{
 "cells": [
  {
   "cell_type": "code",
   "execution_count": 1,
   "id": "d306bb86",
   "metadata": {
    "_cell_guid": "b1076dfc-b9ad-4769-8c92-a6c4dae69d19",
    "_uuid": "8f2839f25d086af736a60e9eeb907d3b93b6e0e5",
    "execution": {
     "iopub.execute_input": "2024-01-13T05:44:01.484741Z",
     "iopub.status.busy": "2024-01-13T05:44:01.484058Z",
     "iopub.status.idle": "2024-01-13T05:44:01.502169Z",
     "shell.execute_reply": "2024-01-13T05:44:01.501132Z"
    },
    "papermill": {
     "duration": 0.027519,
     "end_time": "2024-01-13T05:44:01.505469",
     "exception": false,
     "start_time": "2024-01-13T05:44:01.477950",
     "status": "completed"
    },
    "tags": []
   },
   "outputs": [],
   "source": [
    "# Python 3 environment\n",
    "\n",
    "%pip install --upgrade pip\n",
    "%pip install numpy\n",
    "%pip install pandas\n",
    "import numpy as np # linear algebra\n",
    "import pandas as pd # data processing, CSV file I/O (e.g. pd.read_csv)\n",
    "import requests\n",
    "import time\n",
    "# Input data files are available in the read-only \"../input/\" directory\n",
    "\n",
    "import os\n",
    "for dirname, _, filenames in os.walk('/pdxmaps/input'):\n",
    "    for filename in filenames:\n",
    "        print(os.path.join(dirname, filename))\n"
   ]
  },
  {
   "cell_type": "code",
   "execution_count": 2,
   "id": "d2edf6b8",
   "metadata": {
    "execution": {
     "iopub.execute_input": "2024-01-13T05:44:01.513644Z",
     "iopub.status.busy": "2024-01-13T05:44:01.513172Z",
     "iopub.status.idle": "2024-01-13T05:44:01.750235Z",
     "shell.execute_reply": "2024-01-13T05:44:01.748844Z"
    },
    "papermill": {
     "duration": 0.244746,
     "end_time": "2024-01-13T05:44:01.753266",
     "exception": false,
     "start_time": "2024-01-13T05:44:01.508520",
     "status": "completed"
    },
    "tags": []
   },
   "outputs": [],
   "source": [
    "APIKEY = \"7D700138A0EA40349E799EA216BF82F9\""
   ]
  },
  {
   "cell_type": "code",
   "execution_count": 3,
   "id": "b8808ad2",
   "metadata": {
    "execution": {
     "iopub.execute_input": "2024-01-13T05:44:01.760411Z",
     "iopub.status.busy": "2024-01-13T05:44:01.759944Z",
     "iopub.status.idle": "2024-01-13T07:57:01.154219Z",
     "shell.execute_reply": "2024-01-13T07:57:01.152893Z"
    },
    "papermill": {
     "duration": 7979.404946,
     "end_time": "2024-01-13T07:57:01.160916",
     "exception": false,
     "start_time": "2024-01-13T05:44:01.755970",
     "status": "completed"
    },
    "tags": []
   },
   "outputs": [
    {
     "name": "stdout",
     "output_type": "stream",
     "text": [
      "done!\n"
     ]
    }
   ],
   "source": [
    "counties = [\"Multnomah\",\"Clackamas\",\"Washington\"]\n",
    "assessor_data = pd.DataFrame()\n",
    "\n",
    "for county in counties:\n",
    "    is_data = True\n",
    "    page = 1\n",
    "    while is_data:\n",
    "        response = pd.DataFrame(requests.get(\"https://www.portlandmaps.com/api/assessor.cfm?download=0&api_key={}&format=json&sort_field=address&sort_order=ASC&action=assessor&search_type=basic&debug=0&address=&property_id=&state_id=&neighborhood=&city=&county={}&alt_account_number=&zip_code=&legal_description=&page={}&count=1000\".format(APIKEY,county,page)).json()['results'])\n",
    "        is_data = not response.empty\n",
    "        #print(response)\n",
    "        #print (is_data)\n",
    "        #print (response.size)\n",
    "        response.to_csv(\"Portland_Maps_Assessor_Data_live.csv\", mode='a', index=False, header=not os.path.exists(\"Portland_Maps_Assessor_Data_live.csv\"))\n",
    "\n",
    "        page += 1\n",
    "        time.sleep(10)\n",
    "os.rename (\"Portland_Maps_Assessor_Data_live.csv\", \"Portland_Maps_Assessor_Data.csv\")\n",
    "print (\"done!\")"
   ]
  },
  {
   "cell_type": "code",
   "execution_count": null,
   "id": "218688c6",
   "metadata": {
    "papermill": {
     "duration": 0.002268,
     "end_time": "2024-01-13T07:57:01.165888",
     "exception": false,
     "start_time": "2024-01-13T07:57:01.163620",
     "status": "completed"
    },
    "tags": []
   },
   "outputs": [],
   "source": []
  }
 ],
 "metadata": {
  "kernelspec": {
   "display_name": "Python 3",
   "language": "python",
   "name": "python3"
  },
  "language_info": {
   "codemirror_mode": {
    "name": "ipython",
    "version": 3
   },
   "file_extension": ".py",
   "mimetype": "text/x-python",
   "name": "python",
   "nbconvert_exporter": "python",
   "pygments_lexer": "ipython3",
   "version": "3.7.12"
  },
  "papermill": {
   "default_parameters": {},
   "duration": 7992.303233,
   "end_time": "2024-01-13T07:57:02.014759",
   "environment_variables": {},
   "exception": null,
   "input_path": "__notebook__.ipynb",
   "output_path": "__notebook__.ipynb",
   "parameters": {},
   "start_time": "2024-01-13T05:43:49.711526",
   "version": "2.3.4"
  }
 },
 "nbformat": 4,
 "nbformat_minor": 5
}
